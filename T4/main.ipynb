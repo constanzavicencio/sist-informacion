{
 "cells": [
  {
   "cell_type": "code",
   "execution_count": 6,
   "metadata": {},
   "outputs": [
    {
     "ename": "ModuleNotFoundError",
     "evalue": "No module named 'mysql'",
     "output_type": "error",
     "traceback": [
      "\u001b[1;31m---------------------------------------------------------------------------\u001b[0m",
      "\u001b[1;31mModuleNotFoundError\u001b[0m                       Traceback (most recent call last)",
      "Cell \u001b[1;32mIn[6], line 2\u001b[0m\n\u001b[0;32m      1\u001b[0m \u001b[38;5;28;01mimport\u001b[39;00m \u001b[38;5;21;01mpandas\u001b[39;00m \u001b[38;5;28;01mas\u001b[39;00m \u001b[38;5;21;01mpd\u001b[39;00m\n\u001b[1;32m----> 2\u001b[0m \u001b[38;5;28;01mimport\u001b[39;00m \u001b[38;5;21;01mmysql\u001b[39;00m\u001b[38;5;21;01m.\u001b[39;00m\u001b[38;5;21;01mconnector\u001b[39;00m\n",
      "\u001b[1;31mModuleNotFoundError\u001b[0m: No module named 'mysql'"
     ]
    }
   ],
   "source": [
    "import pandas as pd\n",
    "import mysql.connector"
   ]
  },
  {
   "cell_type": "code",
   "execution_count": 2,
   "metadata": {},
   "outputs": [],
   "source": [
    "file_path = 'DatosT4.xlsx'\n",
    "df = pd.read_excel(file_path, sheet_name='Hoja1', skiprows=3)"
   ]
  },
  {
   "cell_type": "code",
   "execution_count": 3,
   "metadata": {},
   "outputs": [],
   "source": [
    "# eliminar columnas vacías\n",
    "df = df.drop(columns=['Unnamed: 16', 'Unnamed: 17', 'Unnamed: 18', 'Unnamed: 19'])"
   ]
  },
  {
   "cell_type": "code",
   "execution_count": 4,
   "metadata": {},
   "outputs": [],
   "source": [
    "df.columns = [\n",
    "    'Country', 'Men_2022', 'Women_2022', \n",
    "    'Primary_secondary_2022', 'Upper_secondary_postsecondary_2022', 'Tertiary_2022', \n",
    "    \"Bachelor's_2022\", \"Master's_2022\", 'Doctoral_2022', \n",
    "    'GDP_2022', 'Gross_capital_formation_2022', 'Wages_salaries_2022', \n",
    "    'Taxes_production_imports_2022', 'Subsidies_2022', \n",
    "    'Mean_net_income_2022', 'Median_net_income_2022', \n",
    "    'Men_2023', 'Women_2023', \n",
    "    'Primary_secondary_2023', 'Upper_secondary_postsecondary_2023', 'Tertiary_2023', \n",
    "    \"Bachelor's_2023\", \"Master's_2023\", 'Doctoral_2023', \n",
    "    'GDP_2023', 'Gross_capital_formation_2023', 'Wages_salaries_2023', \n",
    "    'Taxes_production_imports_2023', 'Subsidies_2023', \n",
    "    'Mean_net_income_2023', 'Median_net_income_2023'\n",
    "]\n"
   ]
  },
  {
   "cell_type": "code",
   "execution_count": 5,
   "metadata": {},
   "outputs": [
    {
     "ename": "ModuleNotFoundError",
     "evalue": "No module named 'mysql'",
     "output_type": "error",
     "traceback": [
      "\u001b[1;31m---------------------------------------------------------------------------\u001b[0m",
      "\u001b[1;31mModuleNotFoundError\u001b[0m                       Traceback (most recent call last)",
      "Cell \u001b[1;32mIn[5], line 1\u001b[0m\n\u001b[1;32m----> 1\u001b[0m \u001b[38;5;28;01mimport\u001b[39;00m \u001b[38;5;21;01mmysql\u001b[39;00m\u001b[38;5;21;01m.\u001b[39;00m\u001b[38;5;21;01mconnector\u001b[39;00m\n\u001b[0;32m      3\u001b[0m conn \u001b[38;5;241m=\u001b[39m mysql\u001b[38;5;241m.\u001b[39mconnector\u001b[38;5;241m.\u001b[39mconnect(\n\u001b[0;32m      4\u001b[0m     host\u001b[38;5;241m=\u001b[39m\u001b[38;5;124m'\u001b[39m\u001b[38;5;124mlocalhost\u001b[39m\u001b[38;5;124m'\u001b[39m,\n\u001b[0;32m      5\u001b[0m     user\u001b[38;5;241m=\u001b[39m\u001b[38;5;124m'\u001b[39m\u001b[38;5;124mtu_usuario\u001b[39m\u001b[38;5;124m'\u001b[39m,\n\u001b[0;32m      6\u001b[0m     password\u001b[38;5;241m=\u001b[39m\u001b[38;5;124m'\u001b[39m\u001b[38;5;124mtu_contraseña\u001b[39m\u001b[38;5;124m'\u001b[39m\n\u001b[0;32m      7\u001b[0m )\n\u001b[0;32m      9\u001b[0m cursor \u001b[38;5;241m=\u001b[39m conn\u001b[38;5;241m.\u001b[39mcursor()\n",
      "\u001b[1;31mModuleNotFoundError\u001b[0m: No module named 'mysql'"
     ]
    }
   ],
   "source": [
    "# aquí cambiar usuario y contraseña\n",
    "\n",
    "conn = mysql.connector.connect(\n",
    "    host='localhost',\n",
    "    user='tu_usuario',\n",
    "    password='tu_contraseña'\n",
    ")\n",
    "\n",
    "cursor = conn.cursor()\n",
    "cursor.execute(\"CREATE DATABASE IF NOT EXISTS DatosT4\")\n",
    "cursor.execute(\"USE DatosT4\")"
   ]
  },
  {
   "cell_type": "code",
   "execution_count": null,
   "metadata": {},
   "outputs": [],
   "source": [
    "cursor.execute(\"\"\"\n",
    "    CREATE TABLE Datos (\n",
    "        Country VARCHAR(50),\n",
    "        Men_2022 INT,\n",
    "        Women_2022 INT,\n",
    "        Primary_secondary_2022 FLOAT,\n",
    "        Upper_secondary_postsecondary_2022 FLOAT,\n",
    "        Tertiary_2022 FLOAT,\n",
    "        Bachelor_2022 INT,\n",
    "        Master_2022 INT,\n",
    "        Doctoral_2022 INT,\n",
    "        GDP_2022 FLOAT,\n",
    "        Gross_capital_formation_2022 FLOAT,\n",
    "        Wages_salaries_2022 FLOAT,\n",
    "        Taxes_production_imports_2022 FLOAT,\n",
    "        Subsidies_2022 FLOAT,\n",
    "        Mean_net_income_2022 FLOAT,\n",
    "        Median_net_income_2022 FLOAT,\n",
    "        Men_2023 INT,\n",
    "        Women_2023 INT,\n",
    "        Primary_secondary_2023 FLOAT,\n",
    "        Upper_secondary_postsecondary_2023 FLOAT,\n",
    "        Tertiary_2023 FLOAT,\n",
    "        Bachelor_2023 INT,\n",
    "        Master_2023 INT,\n",
    "        Doctoral_2023 INT,\n",
    "        GDP_2023 FLOAT,\n",
    "        Gross_capital_formation_2023 FLOAT,\n",
    "        Wages_salaries_2023 FLOAT,\n",
    "        Taxes_production_imports_2023 FLOAT,\n",
    "        Subsidies_2023 FLOAT,\n",
    "        Mean_net_income_2023 FLOAT,\n",
    "        Median_net_income_2023 FLOAT\n",
    "    )\n",
    "\"\"\")\n",
    "\n",
    "for i, row in df.iterrows():\n",
    "    cursor.execute(\"\"\"\n",
    "        INSERT INTO Datos VALUES (%s, %s, %s, %s, %s, %s, %s, %s, %s, %s, %s, %s, %s, %s, %s, %s, %s, %s, %s, %s, %s, %s, %s, %s, %s, %s, %s, %s, %s, %s, %s)\n",
    "    \"\"\", tuple(row))\n",
    "\n",
    "conn.commit()\n",
    "conn.close()\n"
   ]
  }
 ],
 "metadata": {
  "kernelspec": {
   "display_name": "Python 3",
   "language": "python",
   "name": "python3"
  },
  "language_info": {
   "codemirror_mode": {
    "name": "ipython",
    "version": 3
   },
   "file_extension": ".py",
   "mimetype": "text/x-python",
   "name": "python",
   "nbconvert_exporter": "python",
   "pygments_lexer": "ipython3",
   "version": "3.11.8"
  }
 },
 "nbformat": 4,
 "nbformat_minor": 2
}
